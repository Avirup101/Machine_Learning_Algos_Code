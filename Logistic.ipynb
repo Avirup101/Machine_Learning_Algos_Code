{
 "cells": [
  {
   "cell_type": "code",
   "execution_count": 3,
   "metadata": {},
   "outputs": [
    {
     "data": {
      "image/png": "[encoded data removed]",
      "text/plain": [
       "<Figure size 432x288 with 1 Axes>"
      ]
     },
     "metadata": {
      "needs_background": "light"
     },
     "output_type": "display_data"
    }
   ],
   "source": [
    "import numpy as np\n",
    "import matplotlib.pyplot as plt\n",
    "z = np.arange(-6, 6, 0.1)\n",
    "sigmoid = 1/(1+np.exp(-z))\n",
    "fig = plt.figure('Cost function convergence')\n",
    "plt.plot(z,sigmoid)\n",
    "plt.grid(True)\n",
    "plt.xlabel(' input z')\n",
    "plt.ylabel('Output')\n",
    "plt.title('Sigmoid function graph')\n",
    "plt.show()"
   ]
  },
  {
   "cell_type": "code",
   "execution_count": 4,
   "metadata": {},
   "outputs": [],
   "source": [
    "import numpy as np\n",
    "import scipy.optimize as opt\n",
    "import matplotlib.pyplot as plt"
   ]
  },
  {
   "cell_type": "code",
   "execution_count": 5,
   "metadata": {},
   "outputs": [],
   "source": [
    "def sigmoid(X):\n",
    "    '''sigmoid function '''\n",
    "    return 1/(1+np.exp(-X))"
   ]
  },
  {
   "cell_type": "code",
   "execution_count": 6,
   "metadata": {},
   "outputs": [],
   "source": [
    "def cost(theta, X, y):\n",
    "    '''  logistic regression cost    '''\n",
    "    sxt = sigmoid(np.dot(X, theta.T))\n",
    "    mcost = (-y)*np.log(sxt) - (1-y)*np.log(1-sxt)\n",
    "    return mcost.mean()"
   ]
  },
  {
   "cell_type": "code",
   "execution_count": 7,
   "metadata": {},
   "outputs": [],
   "source": [
    "#def gradient(theta, X, y):\n",
    "#    '''  logistic regression gradient    '''\n",
    "#    sxt = sigmoid(np.dot(X, theta))\n",
    "#    #label and prediction difference\n",
    "#    err = sxt - y \n",
    "#    grad = np.dot(err, sxt) / y.size # gradient vector\n",
    "#    return grad\n",
    "#load the dataset"
   ]
  },
  {
   "cell_type": "code",
   "execution_count": 8,
   "metadata": {},
   "outputs": [],
   "source": [
    "def predict(theta, X):\n",
    "    #test new data\n",
    "    m, n = X.shape\n",
    "    p = np.zeros(shape=(m, 1))\n",
    "    h = sigmoid(X.dot(theta.T))\n",
    "    p = 1*(h>=0.5)\n",
    "    return p "
   ]
  },
  {
   "cell_type": "code",
   "execution_count": 9,
   "metadata": {},
   "outputs": [],
   "source": [
    "puredata = np.loadtxt('iris.csv', delimiter=',')\n",
    "#separate attributes x from class labels\n",
    "X = puredata[:,0:2]\n",
    "Y = puredata[:,2]\n",
    "#print(X) only two feature is selected\n",
    "#print(Y) label "
   ]
  },
  {
   "cell_type": "code",
   "execution_count": 10,
   "metadata": {},
   "outputs": [],
   "source": [
    "#append \"1's\" to attributes first column\n",
    "XX = np.append( np.ones((X.shape[0], 1)), X, axis=1)\n",
    "m , n = XX.shape\n",
    "#print(XX)"
   ]
  },
  {
   "cell_type": "code",
   "execution_count": 11,
   "metadata": {},
   "outputs": [],
   "source": [
    "theta = 0.1* np.random.randn(n)"
   ]
  },
  {
   "cell_type": "code",
   "execution_count": 12,
   "metadata": {},
   "outputs": [
    {
     "name": "stdout",
     "output_type": "stream",
     "text": [
      "Warning: Desired error not necessarily achieved due to precision loss.\n",
      "         Current function value: nan\n",
      "         Iterations: 20\n",
      "         Function evaluations: 665\n",
      "         Gradient evaluations: 133\n"
     ]
    },
    {
     "name": "stderr",
     "output_type": "stream",
     "text": [
      "/home/avi/anaconda3/lib/python3.7/site-packages/ipykernel_launcher.py:4: RuntimeWarning: divide by zero encountered in log\n",
      "  after removing the cwd from sys.path.\n",
      "/home/avi/anaconda3/lib/python3.7/site-packages/ipykernel_launcher.py:4: RuntimeWarning: invalid value encountered in multiply\n",
      "  after removing the cwd from sys.path.\n",
      "/home/avi/anaconda3/lib/python3.7/site-packages/ipykernel_launcher.py:4: RuntimeWarning: divide by zero encountered in log\n",
      "  after removing the cwd from sys.path.\n",
      "/home/avi/anaconda3/lib/python3.7/site-packages/ipykernel_launcher.py:4: RuntimeWarning: invalid value encountered in multiply\n",
      "  after removing the cwd from sys.path.\n",
      "/home/avi/anaconda3/lib/python3.7/site-packages/ipykernel_launcher.py:4: RuntimeWarning: divide by zero encountered in log\n",
      "  after removing the cwd from sys.path.\n",
      "/home/avi/anaconda3/lib/python3.7/site-packages/ipykernel_launcher.py:4: RuntimeWarning: invalid value encountered in multiply\n",
      "  after removing the cwd from sys.path.\n"
     ]
    }
   ],
   "source": [
    "#use fmin_bfgs optimisation function find thetas\n",
    "theta = opt.fmin_bfgs(cost, theta, args=(XX, Y))"
   ]
  },
  {
   "cell_type": "code",
   "execution_count": 13,
   "metadata": {},
   "outputs": [
    {
     "data": {
      "text/plain": [
       "array([-2933.38402228,   741.91526574,  1235.97789784])"
      ]
     },
     "execution_count": 13,
     "metadata": {},
     "output_type": "execute_result"
    }
   ],
   "source": [
    "theta"
   ]
  },
  {
   "cell_type": "code",
   "execution_count": 14,
   "metadata": {},
   "outputs": [],
   "source": [
    "#test classifier with some random data\n",
    "XXX = np.array([[1.0, 5.0, 1.4], #0\n",
    "                [1.0, 1.4, 2.0], #0\n",
    "                [1.0, 7.0, 1.0]]) #1"
   ]
  },
  {
   "cell_type": "code",
   "execution_count": 15,
   "metadata": {},
   "outputs": [
    {
     "name": "stdout",
     "output_type": "stream",
     "text": [
      "[1 1 1]\n",
      "Predcted [0 0 0 0 0 0 0 0 0 0 0 0 0 0 0 0 0 0 0 0 0 0 0 0 0 0 0 0 0 0 0 0 0 0 0 0 0\n",
      " 0 0 0 0 0 0 0 0 0 0 0 0 0 1 1 1 1 1 1 1 1 1 1 1 1 1 1 1 1 1 1 1 1 1 1 1 1\n",
      " 1 1 1 1 1 1 1 1 1 1 1 1 1 1 1 1 1 1 1 1 1 1 1 1 1 1]\n",
      "Accuracy: 100.000000\n"
     ]
    }
   ],
   "source": [
    "print(predict(theta, XXX))\n",
    "#test on labeled data\n",
    "p = predict(theta, XX)  \n",
    "print(\"Predcted\",p)\n",
    "print ('Accuracy: %f' % ((Y[np.where(p == Y)].size / float(Y.size)) * 100.0))"
   ]
  },
  {
   "cell_type": "markdown",
   "metadata": {},
   "source": [
    "https://medium.com/@martinpella/logistic-regression-from-scratch-in-python-124c5636b8ac"
   ]
  },
  {
   "cell_type": "markdown",
   "metadata": {},
   "source": [
    "http://nbviewer.jupyter.org/github/tfolkman/learningwithdata/blob/master/Logistic%20Gradient%20Descent.ipynb"
   ]
  },
  {
   "cell_type": "code",
   "execution_count": null,
   "metadata": {},
   "outputs": [],
   "source": []
  }
 ],
 "metadata": {
  "kernelspec": {
   "display_name": "Python 3",
   "language": "python",
   "name": "python3"
  },
  "language_info": {
   "codemirror_mode": {
    "name": "ipython",
    "version": 3
   },
   "file_extension": ".py",
   "mimetype": "text/x-python",
   "name": "python",
   "nbconvert_exporter": "python",
   "pygments_lexer": "ipython3",
   "version": "3.7.3"
  }
 },
 "nbformat": 4,
 "nbformat_minor": 2
}
